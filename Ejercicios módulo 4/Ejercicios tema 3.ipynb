{
 "cells": [
  {
   "cell_type": "markdown",
   "metadata": {},
   "source": [
    "1. Escribe un script en Python para mostrar los distintos formatos de fecha y hora.\n",
    "\n",
    "```\n",
    "a) Fecha y hora actuales\n",
    "b) Año actual\n",
    "c) Mes del año\n",
    "d) Número de la semana del año\n",
    "e) Día de la semana\n",
    "f) Día del año\n",
    "g) Día del mes\n",
    "h) Día de la semana\n",
    "```"
   ]
  },
  {
   "cell_type": "code",
   "execution_count": 1,
   "metadata": {},
   "outputs": [
    {
     "name": "stdout",
     "output_type": "stream",
     "text": [
      "Fecha y hora actuales:  2022-05-29 16:10:46.337550\n",
      "Año actual:  2022\n",
      "Mes del año:  May\n",
      "Número de la semana del año:  21\n",
      "Día de la semana:  0\n",
      "Día del año:  149\n",
      "Día del mes:  29\n",
      "Día de la semana Sunday\n"
     ]
    }
   ],
   "source": [
    "import time\n",
    "import datetime\n",
    "print(\"Fecha y hora actuales: \" , datetime.datetime.now())\n",
    "print(\"Año actual: \", datetime.date.today().strftime(\"%Y\"))\n",
    "print(\"Mes del año: \", datetime.date.today().strftime(\"%B\"))\n",
    "print(\"Número de la semana del año: \", datetime.date.today().strftime(\"%W\"))\n",
    "print(\"Día de la semana: \", datetime.date.today().strftime(\"%w\"))\n",
    "print(\"Día del año: \", datetime.date.today().strftime(\"%j\"))\n",
    "print(\"Día del mes: \", datetime.date.today().strftime(\"%d\"))\n",
    "print(\"Día de la semana\", datetime.date.today().strftime(\"%A\"))"
   ]
  },
  {
   "cell_type": "markdown",
   "metadata": {},
   "source": [
    "2. Escribe un programa en Python para convertir una cadena a datetime.\n",
    "\n",
    "```\n",
    "INPUT : Jan 1 2014 2:43PM\n",
    "OUTPUT : 2014-07-01 14:43:00\n",
    "```"
   ]
  },
  {
   "cell_type": "code",
   "execution_count": 3,
   "metadata": {},
   "outputs": [
    {
     "name": "stdout",
     "output_type": "stream",
     "text": [
      "2014-07-01 14:43:00\n"
     ]
    }
   ],
   "source": [
    "from datetime import datetime\n",
    "\n",
    "date_object = datetime.strptime('Jul 1 2014 2:43PM', '%b %d %Y %I:%M%p')\n",
    "print(date_object)"
   ]
  },
  {
   "cell_type": "markdown",
   "metadata": {},
   "source": [
    "3. Escribe un programa en Python para obtener la hora actual."
   ]
  },
  {
   "cell_type": "code",
   "execution_count": 4,
   "metadata": {},
   "outputs": [
    {
     "name": "stdout",
     "output_type": "stream",
     "text": [
      "16:12:59.567405\n"
     ]
    }
   ],
   "source": [
    "import datetime\n",
    "print(datetime.datetime.now().time())"
   ]
  },
  {
   "cell_type": "markdown",
   "metadata": {},
   "source": [
    "4. Escribe un programa en Python para restar cinco días a la fecha actual."
   ]
  },
  {
   "cell_type": "code",
   "execution_count": 5,
   "metadata": {},
   "outputs": [
    {
     "name": "stdout",
     "output_type": "stream",
     "text": [
      "Fecha actual: 2022-05-29\n",
      "5 días antes de la fecha actual: 2022-05-24\n"
     ]
    }
   ],
   "source": [
    "from datetime import date, timedelta\n",
    "\n",
    "dt = date.today() - timedelta(5)\n",
    "print('Fecha actual:',date.today())\n",
    "print('5 días antes de la fecha actual:',dt)"
   ]
  },
  {
   "cell_type": "markdown",
   "metadata": {},
   "source": [
    "5. Escribe un programa en Python para convertir una cadena de marcas de tiempo unix en una fecha legible.\n",
    "\n",
    "```\n",
    "INPUT Unix timestamp string : 1284105682\n",
    "OUTPUT : 2010-09-10 13:31:22\n",
    "```"
   ]
  },
  {
   "cell_type": "code",
   "execution_count": 6,
   "metadata": {},
   "outputs": [
    {
     "name": "stdout",
     "output_type": "stream",
     "text": [
      "2010-09-10 10:01:22\n"
     ]
    }
   ],
   "source": [
    "import datetime\n",
    "\n",
    "print(datetime.datetime.fromtimestamp(int(\"1284105682\")).strftime('%Y-%m-%d %H:%M:%S'))"
   ]
  },
  {
   "cell_type": "markdown",
   "metadata": {},
   "source": [
    "6. Escribe un programa en Python para sumar 5 segundos con la hora actual"
   ]
  },
  {
   "cell_type": "code",
   "execution_count": 7,
   "metadata": {},
   "outputs": [
    {
     "name": "stdout",
     "output_type": "stream",
     "text": [
      "16:16:32.076347\n",
      "16:16:37.076347\n"
     ]
    }
   ],
   "source": [
    "import datetime\n",
    "\n",
    "x= datetime.datetime.now()\n",
    "y = x + datetime.timedelta(0,5)\n",
    "print(x.time())\n",
    "print(y.time())"
   ]
  },
  {
   "cell_type": "markdown",
   "metadata": {},
   "source": [
    "7. Escribe un programa en Python para obtener el número de la semana."
   ]
  },
  {
   "cell_type": "code",
   "execution_count": 8,
   "metadata": {},
   "outputs": [
    {
     "name": "stdout",
     "output_type": "stream",
     "text": [
      "25\n"
     ]
    }
   ],
   "source": [
    "import datetime\n",
    "\n",
    "print(datetime.date(2015, 6, 16).isocalendar()[1])"
   ]
  },
  {
   "cell_type": "markdown",
   "metadata": {},
   "source": [
    "8. Escribe un programa en Python para seleccionar todos los domingos de un año determinado."
   ]
  },
  {
   "cell_type": "code",
   "execution_count": 9,
   "metadata": {},
   "outputs": [
    {
     "name": "stdout",
     "output_type": "stream",
     "text": [
      "2020-01-05\n",
      "2020-01-12\n",
      "2020-01-19\n",
      "2020-01-26\n",
      "2020-02-02\n",
      "2020-02-09\n",
      "2020-02-16\n",
      "2020-02-23\n",
      "2020-03-01\n",
      "2020-03-08\n",
      "2020-03-15\n",
      "2020-03-22\n",
      "2020-03-29\n",
      "2020-04-05\n",
      "2020-04-12\n",
      "2020-04-19\n",
      "2020-04-26\n",
      "2020-05-03\n",
      "2020-05-10\n",
      "2020-05-17\n",
      "2020-05-24\n",
      "2020-05-31\n",
      "2020-06-07\n",
      "2020-06-14\n",
      "2020-06-21\n",
      "2020-06-28\n",
      "2020-07-05\n",
      "2020-07-12\n",
      "2020-07-19\n",
      "2020-07-26\n",
      "2020-08-02\n",
      "2020-08-09\n",
      "2020-08-16\n",
      "2020-08-23\n",
      "2020-08-30\n",
      "2020-09-06\n",
      "2020-09-13\n",
      "2020-09-20\n",
      "2020-09-27\n",
      "2020-10-04\n",
      "2020-10-11\n",
      "2020-10-18\n",
      "2020-10-25\n",
      "2020-11-01\n",
      "2020-11-08\n",
      "2020-11-15\n",
      "2020-11-22\n",
      "2020-11-29\n",
      "2020-12-06\n",
      "2020-12-13\n",
      "2020-12-20\n",
      "2020-12-27\n"
     ]
    }
   ],
   "source": [
    "from datetime import date, timedelta\n",
    "\n",
    "def all_sundays(year):\n",
    "    # 1 de enero \n",
    "    dt = date(year, 1, 1)\n",
    "    # Primer domingo del año   \n",
    "    dt += timedelta(days = 6 - dt.weekday())  \n",
    "    while dt.year == year:\n",
    "        yield dt\n",
    "        dt += timedelta(days = 7)\n",
    "          \n",
    "for s in all_sundays(2020):\n",
    "    print(s)\n",
    "   "
   ]
  },
  {
   "cell_type": "markdown",
   "metadata": {},
   "source": [
    "9. Escribe un programa en Python para contar el número de lunes del primer día del mes desde 2015 hasta 2016."
   ]
  },
  {
   "cell_type": "code",
   "execution_count": 10,
   "metadata": {},
   "outputs": [
    {
     "name": "stdout",
     "output_type": "stream",
     "text": [
      "3\n"
     ]
    }
   ],
   "source": [
    "import datetime\n",
    "from datetime import datetime\n",
    "\n",
    "monday1 = 0\n",
    "months = range(1,13)\n",
    "for year in range(2015, 2017):\n",
    "    for month in months:\n",
    "        if datetime(year, month, 1).weekday() == 0:\n",
    "            monday1 += 1\n",
    "print(monday1)"
   ]
  },
  {
   "cell_type": "markdown",
   "metadata": {},
   "source": [
    "10. Escribe un programa en Python para crear 12 fechas fijas a partir de una fecha especificada en un periodo determinado. La diferencia entre dos fechas será de 20."
   ]
  },
  {
   "cell_type": "code",
   "execution_count": 11,
   "metadata": {},
   "outputs": [
    {
     "name": "stdout",
     "output_type": "stream",
     "text": [
      "Starting Date: 2016-08-01\n",
      "Next 12 days :\n",
      "2016-08-21\n",
      "2016-09-10\n",
      "2016-09-30\n",
      "2016-10-20\n",
      "2016-11-09\n",
      "2016-11-29\n",
      "2016-12-19\n",
      "2017-01-08\n",
      "2017-01-28\n",
      "2017-02-17\n",
      "2017-03-09\n",
      "2017-03-29\n"
     ]
    }
   ],
   "source": [
    "import datetime\n",
    "\n",
    "def every_20_days(date):\n",
    "    print('Starting Date: {d}'.format(d=date))\n",
    "    print(\"Next 12 days :\")\n",
    "    for _ in range(12):\n",
    "        date=date+datetime.timedelta(days=20)\n",
    "        print('{d}'.format(d=date))\n",
    "\n",
    "dt = datetime.date(2016,8,1)\n",
    "every_20_days(dt)"
   ]
  },
  {
   "cell_type": "code",
   "execution_count": null,
   "metadata": {},
   "outputs": [],
   "source": []
  }
 ],
 "metadata": {
  "kernelspec": {
   "display_name": "Python 3",
   "language": "python",
   "name": "python3"
  },
  "language_info": {
   "codemirror_mode": {
    "name": "ipython",
    "version": 3
   },
   "file_extension": ".py",
   "mimetype": "text/x-python",
   "name": "python",
   "nbconvert_exporter": "python",
   "pygments_lexer": "ipython3",
   "version": "3.7.3"
  }
 },
 "nbformat": 4,
 "nbformat_minor": 2
}
