{
 "cells": [
  {
   "cell_type": "markdown",
   "metadata": {},
   "source": [
    "1. Crea una clase Staff con los atributos role, dept y salary. Crea una clase Profesor que herede de la clase anterior y que además tenga como atributos nombre y edad. Haz que sea posible instanciar un profesor dándole valor a todos los atributos."
   ]
  },
  {
   "cell_type": "code",
   "execution_count": 1,
   "metadata": {},
   "outputs": [
    {
     "name": "stdout",
     "output_type": "stream",
     "text": [
      "{'name': 'Alan', 'age': 45, 'role': 'Teacher', 'dept': 'Sciences', 'salary': 25000}\n"
     ]
    }
   ],
   "source": [
    "class Staff:\n",
    "    def __init__(self, role, dept, salary): \n",
    "        self.role = role\n",
    "        self.dept = dept\n",
    "        self.salary = salary\n",
    "\n",
    "class Teacher(Staff):\n",
    "    def __init__(self, name, age, role, dept, salary):\n",
    "        self.name = name\n",
    "        self.age = age\n",
    "        # Inicializa la clase padre\n",
    "        super().__init__(role, dept, salary)\n",
    "\n",
    "teacher = Teacher('Alan', 45, 'Teacher', 'Sciences', 25000)\n",
    "print(teacher.__dict__)"
   ]
  },
  {
   "cell_type": "markdown",
   "metadata": {},
   "source": [
    "2. Representa el siguiente diagrama con sus clases, atributos y métodos correspondientes.\n",
    "\n",
    "```\n",
    "parent1             parent2\n",
    "- x                 - y\n",
    "- display()         - display()\n",
    "   |                    |\n",
    "   ----------------------\n",
    "              |\n",
    "             Child\n",
    "             - z\n",
    "             - display()\n",
    "```\n",
    "   \n",
    "Cada método display debe imprimir el nombre de la clase y los atributos y valores de la instancia en ese momento. Ejemplo: In display method of Parent1 x=10"
   ]
  },
  {
   "cell_type": "code",
   "execution_count": 2,
   "metadata": {},
   "outputs": [
    {
     "name": "stdout",
     "output_type": "stream",
     "text": [
      "In init method of Child\n",
      "In init method of Parent1\n",
      "In init method of Parent2\n",
      "In display method of Parent1 x =  10\n",
      "In display method of Parent2 y =  Hello\n",
      "In display method of Child z = 20\n",
      "[<class '__main__.Child'>, <class '__main__.Parent1'>, <class '__main__.Parent2'>, <class 'object'>]\n"
     ]
    }
   ],
   "source": [
    "class Parent1:\n",
    "    def __init__(self, x, **kwargs):\n",
    "        print('In init method of Parent1')\n",
    "        self.x = x\n",
    "        super().__init__(**kwargs)\n",
    "    def display(self):\n",
    "        print('In display method of Parent1 x = ', self.x)\n",
    "\n",
    "class Parent2:\n",
    "    def __init__(self, y, **kwargs):\n",
    "        print('In init method of Parent2')\n",
    "        self.y = y\n",
    "        super().__init__(**kwargs)\n",
    "    def display_value(self):\n",
    "        print('In display method of Parent2 y = ', self.y)\n",
    "\n",
    "#inheriting both Parent1 and Parent2\n",
    "class Child(Parent1, Parent2):\n",
    "    def __init__(self, z, **kwargs):\n",
    "        print('In init method of Child')\n",
    "        super().__init__(**kwargs)\n",
    "        self.z = z\n",
    "\n",
    "    def display_child(self):\n",
    "        print('In display method of Child z =', self.z)\n",
    "\n",
    "obj = Child(x=10, y='Hello', z=20)\n",
    "\n",
    "obj.display()\n",
    "obj.display_value()\n",
    "obj.display_child()\n",
    "print(Child.mro())"
   ]
  },
  {
   "cell_type": "markdown",
   "metadata": {},
   "source": [
    "3. Crea una clase Car que herede de Vehicle y que sobreescriba los métodos max_speed() y change_gear(). Instancia dos objetos de cada clase y comprueba que la salida de cada método es distinta."
   ]
  },
  {
   "cell_type": "markdown",
   "metadata": {},
   "source": [
    "```\n",
    "class Vehicle:\n",
    "    def __init__(self, name, color, price):\n",
    "        self.name = name\n",
    "        self.color = color\n",
    "        self.price = price\n",
    "\n",
    "    def show(self):\n",
    "        print('Details:', self.name, self.color, self.price)\n",
    "\n",
    "    def max_speed(self):\n",
    "        print('Vehicle max speed is 150')\n",
    "\n",
    "    def change_gear(self):\n",
    "        print('Vehicle change 6 gear')\n",
    "```"
   ]
  },
  {
   "cell_type": "code",
   "execution_count": null,
   "metadata": {},
   "outputs": [],
   "source": [
    "class Vehicle:\n",
    "\n",
    "    def __init__(self, name, color, price):\n",
    "        self.name = name\n",
    "        self.color = color\n",
    "        self.price = price\n",
    "\n",
    "    def show(self):\n",
    "        print('Details:', self.name, self.color, self.price)\n",
    "\n",
    "    def max_speed(self):\n",
    "        print('Vehicle max speed is 150')\n",
    "\n",
    "    def change_gear(self):\n",
    "        print('Vehicle change 6 gear')\n",
    "\n",
    "\n",
    "class Car(Vehicle):\n",
    "    def max_speed(self):\n",
    "        print('Car max speed is 240')\n",
    "\n",
    "    def change_gear(self):\n",
    "        print('Car change 7 gear')\n",
    "\n",
    "\n",
    "car = Car('Car x1', 'Red', 20000)\n",
    "car.show()\n",
    "car.max_speed()\n",
    "car.change_gear()\n",
    "\n",
    "vehicle = Vehicle('Truck x1', 'white', 75000)\n",
    "vehicle.show()\n",
    "vehicle.max_speed()\n",
    "vehicle.change_gear()"
   ]
  },
  {
   "cell_type": "markdown",
   "metadata": {},
   "source": [
    "4. Crea una clase Empleado con nombre y salario. Sobrecarga los operadores multiplicación (__mul__) y resta (__sub__) para poder multiplicar y restar empleado por un número natural. "
   ]
  },
  {
   "cell_type": "code",
   "execution_count": 4,
   "metadata": {},
   "outputs": [
    {
     "name": "stdout",
     "output_type": "stream",
     "text": [
      "25000\n",
      "60000\n"
     ]
    }
   ],
   "source": [
    "class Employee:\n",
    "    def __init__(self, name, salary):\n",
    "        self.name = name\n",
    "        self.salary = salary\n",
    "\n",
    "    def __mul__(self, k):\n",
    "        # calculate salary\n",
    "        return self.salary * k\n",
    "    \n",
    "    def __sub__(self, k):\n",
    "        # calculate salary\n",
    "        return self.salary - k\n",
    "    \n",
    "e = Employee('Alan', 30000)\n",
    "print(e - 5000)\n",
    "print(e * 2)"
   ]
  },
  {
   "cell_type": "code",
   "execution_count": null,
   "metadata": {},
   "outputs": [],
   "source": []
  }
 ],
 "metadata": {
  "kernelspec": {
   "display_name": "Python 3",
   "language": "python",
   "name": "python3"
  },
  "language_info": {
   "codemirror_mode": {
    "name": "ipython",
    "version": 3
   },
   "file_extension": ".py",
   "mimetype": "text/x-python",
   "name": "python",
   "nbconvert_exporter": "python",
   "pygments_lexer": "ipython3",
   "version": "3.7.3"
  }
 },
 "nbformat": 4,
 "nbformat_minor": 2
}
