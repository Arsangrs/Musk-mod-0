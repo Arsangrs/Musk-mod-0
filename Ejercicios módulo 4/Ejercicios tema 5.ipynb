{
 "cells": [
  {
   "cell_type": "markdown",
   "metadata": {},
   "source": [
    "1. Crea una función que genere una excepción e imprima su tipo, los argumentos de la excepción y su mensaje de error."
   ]
  },
  {
   "cell_type": "code",
   "execution_count": 3,
   "metadata": {},
   "outputs": [
    {
     "name": "stdout",
     "output_type": "stream",
     "text": [
      "<class 'Exception'>\n",
      "('Esto es una excepción',)\n",
      "Esto es una excepción\n"
     ]
    }
   ],
   "source": [
    "def informa_excepcion():\n",
    "    try:\n",
    "        raise Exception('Esto es una excepción')\n",
    "    except Exception as inst:\n",
    "        print(type(inst))    # the exception instance\n",
    "        print(inst.args)     # arguments stored in .args\n",
    "        print(inst)          # __str__ allows args to be printed directly,\n",
    "\n",
    "informa_excepcion()"
   ]
  },
  {
   "cell_type": "markdown",
   "metadata": {},
   "source": [
    "2. Crea una función que compute la diferencia entre dos enteros. En caso de que la diferencia sea negativa genera una excepción inventada por ti que informe sobre ello. Por ejemplo, la excepcion podría llamarse `NegativeDifferenceException`."
   ]
  },
  {
   "cell_type": "code",
   "execution_count": 12,
   "metadata": {},
   "outputs": [
    {
     "ename": "NegativeDifferenceException",
     "evalue": "-2",
     "output_type": "error",
     "traceback": [
      "\u001b[0;31m---------------------------------------------------------------------------\u001b[0m",
      "\u001b[0;31mNegativeDifferenceException\u001b[0m               Traceback (most recent call last)",
      "\u001b[0;32m<ipython-input-12-fda8e544bdb2>\u001b[0m in \u001b[0;36m<module>\u001b[0;34m\u001b[0m\n\u001b[1;32m     12\u001b[0m \u001b[0;34m\u001b[0m\u001b[0m\n\u001b[1;32m     13\u001b[0m \u001b[0;34m\u001b[0m\u001b[0m\n\u001b[0;32m---> 14\u001b[0;31m \u001b[0mdifference\u001b[0m\u001b[0;34m(\u001b[0m\u001b[0;36m2\u001b[0m\u001b[0;34m,\u001b[0m \u001b[0;36m4\u001b[0m\u001b[0;34m)\u001b[0m\u001b[0;34m\u001b[0m\u001b[0;34m\u001b[0m\u001b[0m\n\u001b[0m",
      "\u001b[0;32m<ipython-input-12-fda8e544bdb2>\u001b[0m in \u001b[0;36mdifference\u001b[0;34m(a, b)\u001b[0m\n\u001b[1;32m      8\u001b[0m     \u001b[0mdiff\u001b[0m \u001b[0;34m=\u001b[0m \u001b[0ma\u001b[0m \u001b[0;34m-\u001b[0m \u001b[0mb\u001b[0m\u001b[0;34m\u001b[0m\u001b[0;34m\u001b[0m\u001b[0m\n\u001b[1;32m      9\u001b[0m     \u001b[0;32mif\u001b[0m \u001b[0mdiff\u001b[0m \u001b[0;34m<\u001b[0m \u001b[0;36m0\u001b[0m\u001b[0;34m:\u001b[0m\u001b[0;34m\u001b[0m\u001b[0;34m\u001b[0m\u001b[0m\n\u001b[0;32m---> 10\u001b[0;31m         \u001b[0;32mraise\u001b[0m \u001b[0mNegativeDifferenceException\u001b[0m\u001b[0;34m(\u001b[0m\u001b[0mdiff\u001b[0m\u001b[0;34m)\u001b[0m\u001b[0;34m\u001b[0m\u001b[0;34m\u001b[0m\u001b[0m\n\u001b[0m\u001b[1;32m     11\u001b[0m \u001b[0;34m\u001b[0m\u001b[0m\n\u001b[1;32m     12\u001b[0m \u001b[0;34m\u001b[0m\u001b[0m\n",
      "\u001b[0;31mNegativeDifferenceException\u001b[0m: -2"
     ]
    }
   ],
   "source": [
    "class NegativeDifferenceException(Exception):\n",
    "    def __init__(self, valor):\n",
    "        self.valor = valor\n",
    "    def __str__(self):\n",
    "        return repr(self.valor)\n",
    "    \n",
    "def difference(a, b):\n",
    "    diff = a - b\n",
    "    if diff < 0:\n",
    "        raise NegativeDifferenceException(diff)\n",
    "            \n",
    "            \n",
    "            \n",
    "difference(2, 4)"
   ]
  },
  {
   "cell_type": "markdown",
   "metadata": {},
   "source": [
    "3. Crea una función que calcule la división entre dos números. Debe imprimir el mensaje 'Los parámetros deben ser número enteros' cuando se genera una excepción de tipo y 'El divisor no puede ser 0' cuando se genera un zero division error."
   ]
  },
  {
   "cell_type": "code",
   "execution_count": 17,
   "metadata": {},
   "outputs": [
    {
     "name": "stdout",
     "output_type": "stream",
     "text": [
      "Los parámetros deben ser número enteros\n"
     ]
    }
   ],
   "source": [
    "def division(a, b):\n",
    "    d = None\n",
    "    try:\n",
    "        if not(isinstance(a, int)) or not(isinstance(b, int)):\n",
    "            raise TypeError\n",
    "        \n",
    "        d = a / b\n",
    "    except TypeError:\n",
    "        print('Los parámetros deben ser número enteros')\n",
    "    except ZeroDivisionError:\n",
    "        print('El divisor no puede ser 0')\n",
    "    return d\n",
    "\n",
    "division('a', 2)"
   ]
  },
  {
   "cell_type": "markdown",
   "metadata": {},
   "source": [
    "4. Añade a la función anterior, un mensaje que se imprima al final de la ejecución de la función independientemente de si se ha generado excepción o no."
   ]
  },
  {
   "cell_type": "code",
   "execution_count": 18,
   "metadata": {},
   "outputs": [
    {
     "name": "stdout",
     "output_type": "stream",
     "text": [
      "Los parámetros deben ser número enteros\n",
      "El proceso a concluido.\n"
     ]
    }
   ],
   "source": [
    "def division(a, b):\n",
    "    d = None\n",
    "    try:\n",
    "        if not(isinstance(a, int)) or not(isinstance(b, int)):\n",
    "            raise TypeError\n",
    "        \n",
    "        d = a / b\n",
    "    except TypeError:\n",
    "        print('Los parámetros deben ser número enteros')\n",
    "    except ZeroDivisionError:\n",
    "        print('El divisor no puede ser 0')\n",
    "    finally:\n",
    "        print('El proceso a concluido.')\n",
    "    return d\n",
    "\n",
    "division('a', 2)"
   ]
  },
  {
   "cell_type": "code",
   "execution_count": null,
   "metadata": {},
   "outputs": [],
   "source": []
  }
 ],
 "metadata": {
  "kernelspec": {
   "display_name": "Python 3",
   "language": "python",
   "name": "python3"
  },
  "language_info": {
   "codemirror_mode": {
    "name": "ipython",
    "version": 3
   },
   "file_extension": ".py",
   "mimetype": "text/x-python",
   "name": "python",
   "nbconvert_exporter": "python",
   "pygments_lexer": "ipython3",
   "version": "3.7.3"
  }
 },
 "nbformat": 4,
 "nbformat_minor": 2
}
