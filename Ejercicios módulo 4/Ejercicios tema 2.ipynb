{
 "cells": [
  {
   "cell_type": "markdown",
   "metadata": {},
   "source": [
    "1. Dadas las siguientes clases con el output de sus respectivos métodos, crea una interfaz formal que las implemente."
   ]
  },
  {
   "cell_type": "markdown",
   "metadata": {},
   "source": [
    "```\n",
    "svm = SVM()\n",
    "svm.preprocess_data(data=None, y=None)\n",
    "svm.fit()\n",
    "svm.predict()\n",
    "\n",
    "dt = DecisionTree()\n",
    "dt.preprocess_data(data=None, y=None)\n",
    "dt.fit()\n",
    "dt.predict()\n",
    "\n",
    "output: \n",
    "    \n",
    "Preprocessing data at SVM\n",
    "Training at SVM\n",
    "Evaluating at SVM\n",
    "Preprocessing data at DecisionTree\n",
    "Training at DecisionTree\n",
    "Evaluating at DecisionTree\n",
    "```"
   ]
  },
  {
   "cell_type": "code",
   "execution_count": 3,
   "metadata": {},
   "outputs": [
    {
     "name": "stdout",
     "output_type": "stream",
     "text": [
      "Preprocessing data at SVM\n",
      "Training at SVM\n",
      "Evaluating at SVM\n",
      "Preprocessing data at DecisionTree\n",
      "Training at DecisionTree\n",
      "Evaluating at DecisionTree\n"
     ]
    }
   ],
   "source": [
    "from abc import abstractmethod\n",
    "from abc import ABCMeta\n",
    "\n",
    "\n",
    "class BaseClassifier(metaclass=ABCMeta):\n",
    "    @abstractmethod\n",
    "    def preprocess_data(self, data, y):\n",
    "        pass\n",
    "    @abstractmethod\n",
    "    def fit(self):\n",
    "        pass\n",
    "    @abstractmethod\n",
    "    def predict(self):\n",
    "        pass\n",
    "    \n",
    "class DecisionTree(BaseClassifier):\n",
    "    def preprocess_data(self, data, y):\n",
    "        print('Preprocessing data at DecisionTree')\n",
    "    def fit(self):\n",
    "        print('Training at DecisionTree')\n",
    "    def predict(self):\n",
    "        print('Evaluating at DecisionTree')\n",
    "    \n",
    "class SVM(BaseClassifier):\n",
    "    def preprocess_data(self, data, y):\n",
    "        print('Preprocessing data at SVM')\n",
    "    def fit(self):\n",
    "        print('Training at SVM')\n",
    "    def predict(self):\n",
    "        print('Evaluating at SVM') \n",
    "        \n",
    "svm = SVM()\n",
    "svm.preprocess_data(data=None, y=None)\n",
    "svm.fit()\n",
    "svm.predict()\n",
    "\n",
    "dt = DecisionTree()\n",
    "dt.preprocess_data(data=None, y=None)\n",
    "dt.fit()\n",
    "dt.predict()"
   ]
  },
  {
   "cell_type": "markdown",
   "metadata": {},
   "source": [
    "2. Repite el ejercicio anterior esta vez creando una interfaz informal."
   ]
  },
  {
   "cell_type": "code",
   "execution_count": 4,
   "metadata": {},
   "outputs": [
    {
     "name": "stdout",
     "output_type": "stream",
     "text": [
      "Preprocessing data at SVM\n",
      "Training at SVM\n",
      "Evaluating at SVM\n",
      "Preprocessing data at DecisionTree\n",
      "Training at DecisionTree\n",
      "Evaluating at DecisionTree\n"
     ]
    }
   ],
   "source": [
    "class BaseClassifier:\n",
    "    def preprocess_data(self, data, y):\n",
    "        pass\n",
    "    def fit(self):\n",
    "        pass\n",
    "    def predict(self):\n",
    "        pass\n",
    "    \n",
    "class DecisionTree(BaseClassifier):\n",
    "    def preprocess_data(self, data, y):\n",
    "        print('Preprocessing data at DecisionTree')\n",
    "    def fit(self):\n",
    "        print('Training at DecisionTree')\n",
    "    def predict(self):\n",
    "        print('Evaluating at DecisionTree')\n",
    "    \n",
    "class SVM(BaseClassifier):\n",
    "    def preprocess_data(self, data, y):\n",
    "        print('Preprocessing data at SVM')\n",
    "    def fit(self):\n",
    "        print('Training at SVM')\n",
    "    def predict(self):\n",
    "        print('Evaluating at SVM') \n",
    "        \n",
    "svm = SVM()\n",
    "svm.preprocess_data(data=None, y=None)\n",
    "svm.fit()\n",
    "svm.predict()\n",
    "\n",
    "dt = DecisionTree()\n",
    "dt.preprocess_data(data=None, y=None)\n",
    "dt.fit()\n",
    "dt.predict()"
   ]
  },
  {
   "cell_type": "markdown",
   "metadata": {},
   "source": [
    "3. Crea una clase virtual llamada Algoritmo con los atributos nombre, tarea y aprendizaje que sea superclase de la clase BaseClassifier del problema anterior.Comprueba con el método issubclass que Algoritmo es padre de BaseClassifier."
   ]
  },
  {
   "cell_type": "code",
   "execution_count": 5,
   "metadata": {},
   "outputs": [
    {
     "data": {
      "text/plain": [
       "__main__.BaseClassifier"
      ]
     },
     "execution_count": 5,
     "metadata": {},
     "output_type": "execute_result"
    }
   ],
   "source": [
    "from abc import ABCMeta\n",
    "\n",
    "class Algorithm(metaclass=ABCMeta):\n",
    "    def __init__(self, name, task, learning):\n",
    "        self.name = name\n",
    "        self.task = task\n",
    "        self.learning\n",
    "        \n",
    "    def preprocess_data(self, data, y):\n",
    "        pass\n",
    "    def fit(self):\n",
    "        pass\n",
    "    def predict(self):\n",
    "        pass\n",
    "    \n",
    "Algorithm.register(BaseClassifier)\n",
    "\n",
    "print(issubclass(BaseClassifier, Algorithm))"
   ]
  },
  {
   "cell_type": "code",
   "execution_count": 6,
   "metadata": {},
   "outputs": [
    {
     "name": "stdout",
     "output_type": "stream",
     "text": [
      "True\n"
     ]
    }
   ],
   "source": [
    "print(issubclass(BaseClassifier, Algorithm))"
   ]
  }
 ],
 "metadata": {
  "kernelspec": {
   "display_name": "Python 3",
   "language": "python",
   "name": "python3"
  },
  "language_info": {
   "codemirror_mode": {
    "name": "ipython",
    "version": 3
   },
   "file_extension": ".py",
   "mimetype": "text/x-python",
   "name": "python",
   "nbconvert_exporter": "python",
   "pygments_lexer": "ipython3",
   "version": "3.7.3"
  }
 },
 "nbformat": 4,
 "nbformat_minor": 2
}
