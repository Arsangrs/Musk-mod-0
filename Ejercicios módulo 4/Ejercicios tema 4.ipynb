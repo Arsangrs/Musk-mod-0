{
 "cells": [
  {
   "cell_type": "markdown",
   "metadata": {},
   "source": [
    "1. Implementa una función generadora que dadas dos listas del mismo tamaño, devuelva la multiplicación entre los elementos de cada una, el primer elemento de la lista 1 por el primero de la lista 2, el segundo con el segundo y así sucesivamente. Sigue la siguiente estructura:\n",
    "\n",
    "```\n",
    "def prod(l1, l2):\n",
    "    ...\n",
    "    except StopIteration:\n",
    "        pass\n",
    "    return solution\n",
    "```\n",
    "\n",
    "Añadiendo el bloque except capturamos la excepción de StopIteration que se produce al acabar de leer todos los elementos de un generador."
   ]
  },
  {
   "cell_type": "code",
   "execution_count": 6,
   "metadata": {},
   "outputs": [
    {
     "name": "stdout",
     "output_type": "stream",
     "text": [
      "2\n",
      "5\n",
      "6\n"
     ]
    }
   ],
   "source": [
    "def prod(l1, l2):\n",
    "    try:\n",
    "        for i, e in enumerate(l1):\n",
    "            yield l1[i] * l2[i]\n",
    "    except StopIteration:\n",
    "        pass\n",
    "\n",
    "for e in prod([2, 5, 6], [1, 1, 1]):\n",
    "    print(e)"
   ]
  },
  {
   "cell_type": "markdown",
   "metadata": {},
   "source": [
    "2. Implementa un generador, que dado un entero n, genere n números aleatorios. Puedes usar el método random de la librería random para generar números aleatorios."
   ]
  },
  {
   "cell_type": "code",
   "execution_count": 11,
   "metadata": {},
   "outputs": [
    {
     "name": "stdout",
     "output_type": "stream",
     "text": [
      "<generator object randomize at 0x7f29b83bd7c8>\n"
     ]
    }
   ],
   "source": [
    "import random\n",
    "\n",
    "def randomize(n):\n",
    "    for i in range(0, n):\n",
    "        yield random.random()\n",
    "\n",
    "print(list(randomize(5)))"
   ]
  },
  {
   "cell_type": "markdown",
   "metadata": {},
   "source": [
    "3. Implementa un generador fibonacci que genere n números de la secuencia de Fibonacci, que tiene la forma:\n",
    "\n",
    "0, 1, 1, 2, 3, 5, 8, 13, ...\n",
    "Cuyos dos primeros valores son 0 y 1 por definición y el resto se calculan sumando los dos últimos valores de la sucesión.\n",
    "\n"
   ]
  },
  {
   "cell_type": "code",
   "execution_count": 2,
   "metadata": {},
   "outputs": [
    {
     "name": "stdout",
     "output_type": "stream",
     "text": [
      "[0, 1, 1, 2, 3, 5, 8, 13, 21, 34]\n"
     ]
    }
   ],
   "source": [
    "def fibonacci(n):\n",
    "    a, b = 0, 1\n",
    "    for i in range(0, n):\n",
    "        yield a\n",
    "        a, b = b, a + b\n",
    "\n",
    "print(list(fibonacci(10)))"
   ]
  },
  {
   "cell_type": "markdown",
   "metadata": {},
   "source": [
    "4. Implementa un generador, que dado un entero n, imprima todos los números inferiores a n multiplicados por dos."
   ]
  },
  {
   "cell_type": "code",
   "execution_count": 5,
   "metadata": {},
   "outputs": [
    {
     "name": "stdout",
     "output_type": "stream",
     "text": [
      "[0, 2, 4, 6, 8, 10, 12, 14, 16, 18]\n"
     ]
    }
   ],
   "source": [
    "def pares(maximo):\n",
    "    num = 0\n",
    "    while num < maximo:\n",
    "        yield num * 2\n",
    "        num += 1\n",
    "        \n",
    "print(list(pares(10)))"
   ]
  },
  {
   "cell_type": "markdown",
   "metadata": {},
   "source": [
    "5. Implementa un generador, que dado un entero n, genere n número senares."
   ]
  },
  {
   "cell_type": "code",
   "execution_count": 6,
   "metadata": {},
   "outputs": [
    {
     "name": "stdout",
     "output_type": "stream",
     "text": [
      "[1, 3, 5, 7, 9, 11, 13, 15, 17, 19]\n"
     ]
    }
   ],
   "source": [
    "def senares(n):\n",
    "    for i in range(0, n):\n",
    "        yield i * 2 + 1\n",
    "        \n",
    "print(list(senares(10)))"
   ]
  },
  {
   "cell_type": "code",
   "execution_count": null,
   "metadata": {},
   "outputs": [],
   "source": []
  }
 ],
 "metadata": {
  "kernelspec": {
   "display_name": "Python 3",
   "language": "python",
   "name": "python3"
  },
  "language_info": {
   "codemirror_mode": {
    "name": "ipython",
    "version": 3
   },
   "file_extension": ".py",
   "mimetype": "text/x-python",
   "name": "python",
   "nbconvert_exporter": "python",
   "pygments_lexer": "ipython3",
   "version": "3.7.3"
  }
 },
 "nbformat": 4,
 "nbformat_minor": 2
}
